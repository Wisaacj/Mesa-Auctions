{
 "cells": [
  {
   "cell_type": "markdown",
   "metadata": {},
   "source": [
    "# Data analysis of Auction Model"
   ]
  },
  {
   "cell_type": "code",
   "execution_count": 32,
   "metadata": {},
   "outputs": [],
   "source": [
    "import pandas as pd\n",
    "import numpy as np"
   ]
  },
  {
   "cell_type": "code",
   "execution_count": 76,
   "metadata": {},
   "outputs": [],
   "source": [
    "# 10,000 epochs of simulations\n",
    "legacy_df = pd.read_csv(\"results_legacy_bidincrease_sniper_no_watchproba.csv\", index_col=0)"
   ]
  },
  {
   "cell_type": "markdown",
   "metadata": {},
   "source": [
    "## Getting final row of each epoch"
   ]
  },
  {
   "cell_type": "code",
   "execution_count": 77,
   "metadata": {},
   "outputs": [
    {
     "name": "stdout",
     "output_type": "stream",
     "text": [
      "[    100     201     302 ... 1009797 1009898 1009999]\n"
     ]
    }
   ],
   "source": [
    "splits = np.where(legacy_df[\"Highest Bid\"] == 0)[0]\n",
    "splits = np.delete(splits, 0)\n",
    "splits = np.append(splits, len(legacy_df[\"Highest Bid\"]-1))\n",
    "splits = splits - 1\n",
    "print(splits)"
   ]
  },
  {
   "cell_type": "code",
   "execution_count": 78,
   "metadata": {},
   "outputs": [
    {
     "name": "stderr",
     "output_type": "stream",
     "text": [
      "C:\\Users\\Will\\AppData\\Local\\Temp\\ipykernel_3384\\3337094288.py:4: SettingWithCopyWarning: \n",
      "A value is trying to be set on a copy of a slice from a DataFrame\n",
      "\n",
      "See the caveats in the documentation: https://pandas.pydata.org/pandas-docs/stable/user_guide/indexing.html#returning-a-view-versus-a-copy\n",
      "  final_prices_df.drop(final_prices_df.index[np.where(final_prices_df[\"Highest Bid\"] == 0)[0]], axis=0, inplace=True)\n"
     ]
    }
   ],
   "source": [
    "final_prices_df = legacy_df.iloc[splits]\n",
    "# Removing any rows which contain 0 or None\n",
    "# These are edge cases where the model does not receive any bids in the first few timesteps\n",
    "final_prices_df.drop(final_prices_df.index[np.where(final_prices_df[\"Highest Bid\"] == 0)[0]], axis=0, inplace=True)"
   ]
  },
  {
   "cell_type": "markdown",
   "metadata": {},
   "source": [
    "## Calculating win ratio of EarlyBidder : SniperBidder"
   ]
  },
  {
   "cell_type": "code",
   "execution_count": 79,
   "metadata": {},
   "outputs": [],
   "source": [
    "earlyBidderWinPercent = 100 * (len(np.where(final_prices_df[\"Highest Bidder\"] == \"EarlyBidder\")[0]) / len(final_prices_df[\"Highest Bidder\"]))\n",
    "sniperBidderWinPercent = 100 - earlyBidderWinPercent"
   ]
  },
  {
   "cell_type": "code",
   "execution_count": 84,
   "metadata": {},
   "outputs": [
    {
     "name": "stdout",
     "output_type": "stream",
     "text": [
      "EarlyBidder win percentage: 86.82%\n",
      "SniperBidder win percentage: 13.18%\n"
     ]
    }
   ],
   "source": [
    "print(f'EarlyBidder win percentage: {earlyBidderWinPercent:.2f}%')\n",
    "print(f'SniperBidder win percentage: {sniperBidderWinPercent:.2f}%')"
   ]
  },
  {
   "cell_type": "markdown",
   "metadata": {},
   "source": [
    "## Finding sniper bidder wins\n",
    "\n",
    "Plus calculating the percentage difference between the 1st and 2nd highest bids"
   ]
  },
  {
   "cell_type": "code",
   "execution_count": 85,
   "metadata": {},
   "outputs": [],
   "source": [
    "sniper_bidder_wins = final_prices_df.iloc[np.where(final_prices_df[\"Highest Bidder\"] == \"SniperBidder\")[0]]"
   ]
  },
  {
   "cell_type": "code",
   "execution_count": 92,
   "metadata": {},
   "outputs": [
    {
     "name": "stdout",
     "output_type": "stream",
     "text": [
      "302        0.122299\n",
      "1615       0.000000\n",
      "2423       0.078748\n",
      "5150       0.048391\n",
      "5958       0.007183\n",
      "             ...   \n",
      "1004141    0.007931\n",
      "1004646    0.012969\n",
      "1004848    0.000000\n",
      "1007070    0.000000\n",
      "1009494    0.022952\n",
      "Length: 1318, dtype: float64\n"
     ]
    }
   ],
   "source": [
    "sniper_bidder_premiums = (sniper_bidder_wins[\"Highest Bid\"] - sniper_bidder_wins[\"Second Highest Bid\"]) / sniper_bidder_wins[\"Second Highest Bid\"]\n",
    "print(sniper_bidder_premiums)"
   ]
  },
  {
   "cell_type": "code",
   "execution_count": 102,
   "metadata": {},
   "outputs": [
    {
     "name": "stdout",
     "output_type": "stream",
     "text": [
      "Mean early bidder premium: 0.03485080106947434\n",
      "Median early bidder premium: 0.013082746607132992\n"
     ]
    }
   ],
   "source": [
    "mean_sniper_premium = np.mean(sniper_bidder_premiums)\n",
    "print(f'Mean early bidder premium: {mean_sniper_premium}')\n",
    "median_sniper_premium = np.median(sniper_bidder_premiums)\n",
    "print(f'Median early bidder premium: {median_sniper_premium}')"
   ]
  },
  {
   "cell_type": "markdown",
   "metadata": {},
   "source": [
    "## Finding early bidder wins\n",
    "\n",
    "Plus calculating the percentage difference between the 1st and 2nd highest bids"
   ]
  },
  {
   "cell_type": "code",
   "execution_count": 94,
   "metadata": {},
   "outputs": [],
   "source": [
    "early_bidder_wins = final_prices_df.iloc[np.where(final_prices_df[\"Highest Bidder\"] == \"EarlyBidder\")[0]]"
   ]
  },
  {
   "cell_type": "code",
   "execution_count": 95,
   "metadata": {},
   "outputs": [
    {
     "name": "stdout",
     "output_type": "stream",
     "text": [
      "100        0.028878\n",
      "201        0.008591\n",
      "403        0.112308\n",
      "504        0.013226\n",
      "605        0.079081\n",
      "             ...   \n",
      "1009595    0.047983\n",
      "1009696    0.050227\n",
      "1009797    0.051911\n",
      "1009898    0.071318\n",
      "1009999    0.000811\n",
      "Length: 8682, dtype: float64\n"
     ]
    }
   ],
   "source": [
    "early_bidder_premiums = (early_bidder_wins[\"Highest Bid\"] - early_bidder_wins[\"Second Highest Bid\"]) / early_bidder_wins[\"Second Highest Bid\"]\n",
    "print(early_bidder_premiums)"
   ]
  },
  {
   "cell_type": "code",
   "execution_count": 101,
   "metadata": {},
   "outputs": [
    {
     "name": "stdout",
     "output_type": "stream",
     "text": [
      "Mean early bidder premium: 0.29176795810543776\n",
      "Median early bidder premium: 0.04391166614794628\n"
     ]
    }
   ],
   "source": [
    "mean_early_bidder_premium = np.mean(early_bidder_premiums)\n",
    "print(f'Mean early bidder premium: {mean_early_bidder_premium}')\n",
    "median_early_bidder_premium = np.median(early_bidder_premiums)\n",
    "print(f'Median early bidder premium: {median_early_bidder_premium}')"
   ]
  },
  {
   "cell_type": "markdown",
   "metadata": {},
   "source": [
    "We can see that the early bidders paid a large premium (29%) for their win on average (mean), however the median value is much lower at 4%, showing that there was some serious outliers in the dataset"
   ]
  },
  {
   "cell_type": "code",
   "execution_count": 103,
   "metadata": {},
   "outputs": [
    {
     "name": "stdout",
     "output_type": "stream",
     "text": [
      "Highest Bid               995.729528\n",
      "Highest Bidder           EarlyBidder\n",
      "Second Highest Bid          3.827394\n",
      "Second Highest Bidder    EarlyBidder\n",
      "Name: 233309, dtype: object\n"
     ]
    }
   ],
   "source": [
    "print(early_bidder_wins.iloc[np.argmax(early_bidder_premiums)])"
   ]
  },
  {
   "cell_type": "code",
   "execution_count": null,
   "metadata": {},
   "outputs": [],
   "source": []
  }
 ],
 "metadata": {
  "interpreter": {
   "hash": "d1544c7d571bdebcbeb2e119e3f8dd216397285c4e20550d002c3b7730bad3a7"
  },
  "kernelspec": {
   "display_name": "Python 3.8.12 ('mesa')",
   "language": "python",
   "name": "python3"
  },
  "language_info": {
   "codemirror_mode": {
    "name": "ipython",
    "version": 3
   },
   "file_extension": ".py",
   "mimetype": "text/x-python",
   "name": "python",
   "nbconvert_exporter": "python",
   "pygments_lexer": "ipython3",
   "version": "3.8.3"
  },
  "orig_nbformat": 4
 },
 "nbformat": 4,
 "nbformat_minor": 2
}
