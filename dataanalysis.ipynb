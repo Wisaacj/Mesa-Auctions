{
 "cells": [
  {
   "cell_type": "markdown",
   "metadata": {},
   "source": [
    "# Data analysis of Auction Model"
   ]
  },
  {
   "cell_type": "code",
   "execution_count": 32,
   "metadata": {},
   "outputs": [],
   "source": [
    "import pandas as pd\n",
    "import numpy as np"
   ]
  },
  {
   "cell_type": "code",
   "execution_count": 63,
   "metadata": {},
   "outputs": [],
   "source": [
    "legacy_df = pd.read_csv(\"results_legacy_bidincrease.csv\", index_col=0)"
   ]
  },
  {
   "cell_type": "markdown",
   "metadata": {},
   "source": [
    "## Getting final row of each epoch"
   ]
  },
  {
   "cell_type": "code",
   "execution_count": 67,
   "metadata": {},
   "outputs": [
    {
     "name": "stdout",
     "output_type": "stream",
     "text": [
      "[    100     201     302 ... 1009797 1009898 1009999]\n"
     ]
    }
   ],
   "source": [
    "splits = np.where(legacy_df[\"Highest Bid\"] == 0)[0]\n",
    "splits = np.delete(splits, 0)\n",
    "splits = np.append(splits, len(legacy_df[\"Highest Bid\"]-1))\n",
    "splits = splits - 1\n",
    "print(splits)"
   ]
  },
  {
   "cell_type": "code",
   "execution_count": 72,
   "metadata": {},
   "outputs": [
    {
     "name": "stderr",
     "output_type": "stream",
     "text": [
      "C:\\Users\\Will\\AppData\\Local\\Temp\\ipykernel_3384\\3337094288.py:4: SettingWithCopyWarning: \n",
      "A value is trying to be set on a copy of a slice from a DataFrame\n",
      "\n",
      "See the caveats in the documentation: https://pandas.pydata.org/pandas-docs/stable/user_guide/indexing.html#returning-a-view-versus-a-copy\n",
      "  final_prices_df.drop(final_prices_df.index[np.where(final_prices_df[\"Highest Bid\"] == 0)[0]], axis=0, inplace=True)\n"
     ]
    }
   ],
   "source": [
    "final_prices_df = legacy_df.iloc[splits]\n",
    "# Removing any rows which contain 0 or None\n",
    "# These are edge cases where the model does not receive any bids in the first few timesteps\n",
    "final_prices_df.drop(final_prices_df.index[np.where(final_prices_df[\"Highest Bid\"] == 0)[0]], axis=0, inplace=True)"
   ]
  },
  {
   "cell_type": "markdown",
   "metadata": {},
   "source": [
    "## Calculating win ratio of EarlyBidder : SniperBidder"
   ]
  },
  {
   "cell_type": "code",
   "execution_count": 74,
   "metadata": {},
   "outputs": [],
   "source": [
    "earlyBidderWinPercent = len(np.where(final_prices_df[\"Highest Bidder\"] == \"EarlyBidder\")[0]) / len(final_prices_df[\"Highest Bidder\"])\n",
    "sniperBidderWinPercent = 1 - earlyBidderWinPercent"
   ]
  },
  {
   "cell_type": "code",
   "execution_count": 75,
   "metadata": {},
   "outputs": [
    {
     "name": "stdout",
     "output_type": "stream",
     "text": [
      "EarlyBidder win percentage: 0.8346\n",
      "SniperBidder win percentage: 0.1654\n"
     ]
    }
   ],
   "source": [
    "print(f'EarlyBidder win percentage: {earlyBidderWinPercent}')\n",
    "print(f'SniperBidder win percentage: {sniperBidderWinPercent}')"
   ]
  },
  {
   "cell_type": "code",
   "execution_count": null,
   "metadata": {},
   "outputs": [],
   "source": []
  }
 ],
 "metadata": {
  "interpreter": {
   "hash": "d1544c7d571bdebcbeb2e119e3f8dd216397285c4e20550d002c3b7730bad3a7"
  },
  "kernelspec": {
   "display_name": "Python 3.8.12 ('mesa')",
   "language": "python",
   "name": "python3"
  },
  "language_info": {
   "codemirror_mode": {
    "name": "ipython",
    "version": 3
   },
   "file_extension": ".py",
   "mimetype": "text/x-python",
   "name": "python",
   "nbconvert_exporter": "python",
   "pygments_lexer": "ipython3",
   "version": "3.8.3"
  },
  "orig_nbformat": 4
 },
 "nbformat": 4,
 "nbformat_minor": 2
}
